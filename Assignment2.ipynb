{
 "cells": [
  {
   "cell_type": "markdown",
   "metadata": {},
   "source": [
    "# Exercise 1\n",
    "(a) Consider the nonlinear equation:\n",
    "\n",
    "$$\n",
    "\\frac{\\partial u}{\\partial t} + u\\frac{\\partial u}{\\partial x} = \\nu \\frac{\\partial^2 u}{\\partial x^2}\n",
    "$$"
   ]
  },
  {
   "cell_type": "markdown",
   "metadata": {},
   "source": [
    "Using:\n",
    "- Central differences for the second order spatial derivative\n",
    "- Upwind difference for the first order spatial derivative\n",
    "- Implicit Euler for time\n",
    "\n",
    "$$\n",
    "F_i(\\mathbf{U}) = \\frac{U^k_i - U^{k-1}_i}{\\Delta t} + U^k_i\\left(\\frac{U^k_i - U^k_{i-1}}{h}\\right) - \\nu\\left(\\frac{U^k_{i+1} - 2U^k_i + U^k_{i-1}}{h^2}\\right)\n",
    "$$"
   ]
  },
  {
   "cell_type": "code",
   "execution_count": 1,
   "metadata": {},
   "outputs": [],
   "source": [
    "import numpy as np\n",
    "\n",
    "def fun_burgers(uk, ukp, dt, h, nu, ua, ub):\n",
    "\n",
    "  # Nonlinear residual function\n",
    "  # Input: uk    -  vector U^k (dimension m x 1)\n",
    "  #        ukp -  previous solution (dimension m x 1)\n",
    "  #        dt   - time-step\n",
    "  #        h    - spatial grid size\n",
    "  #        nu    - kinematic viscosity\n",
    "  #        ua    - left boundary value\n",
    "  #        ub    - right boundary value\n",
    "  # Output: f   - nonlinear functions evaluated at u\n",
    "\n",
    "  m = ukp.size\n",
    "  f = np.zeros( (m-2, 1) )\n",
    "\n",
    "  # Difference equation at the left boundary\n",
    "  f[0] = ( uk[0] - ukp[1] ) / dt + uk[0] * ( uk[0] - ua ) / h - nu * ( uk[1] - 2*uk[0] + ua ) / h**2 \n",
    "\n",
    "  # Difference equations at each internal node\n",
    "  for i in range(1,m-1):\n",
    "    f[i] = ( uk[i] - ukp[i] ) / dt + uk[i] * ( uk[i] - uk[i-1] ) / h - nu * ( uk[i+1] - 2*uk[i] + ukp[i-1] ) / h**2 \n",
    "\n",
    "  # Difference equation at the right boundary\n",
    "  f[m-3] = ( uk[m] - ukp[m] ) / dt + uk[m] * ( uk[m] - uk[m-1] ) / h - nu * ( ub - 2*uk[m] + ukp[m-1] ) / h**2 \n",
    "\n",
    "  return f\n"
   ]
  },
  {
   "cell_type": "markdown",
   "metadata": {},
   "source": [
    "We can derive analytical formulas for the non zero elements of the Jacobian:\n",
    "\n",
    "$$\n",
    "\\frac{\\partial F_i}{\\partial U_{i-1}} = -\\frac{1}{h}\\left(U_i -\\frac{\\nu}{h}\\right)\n",
    "$$\n",
    "\n",
    "$$\n",
    "\\frac{\\partial F_i}{\\partial U_{i}} = \\frac{1}{\\Delta t} +  \\left(\\frac{2U_i - U_{i-1}}{h}\\right) + \\frac{2\\nu U_i}{h^2}\n",
    "$$\n",
    "\n",
    "$$\n",
    "\\frac{\\partial F_i}{\\partial U_{i+1}} = \\frac{-\\nu}{h^2}\n",
    "$$"
   ]
  }
 ],
 "metadata": {
  "kernelspec": {
   "display_name": "Python 3.6.6 64-bit ('5.2.0')",
   "language": "python",
   "name": "python3"
  },
  "language_info": {
   "codemirror_mode": {
    "name": "ipython",
    "version": 3
   },
   "file_extension": ".py",
   "mimetype": "text/x-python",
   "name": "python",
   "nbconvert_exporter": "python",
   "pygments_lexer": "ipython3",
   "version": "3.10.12"
  },
  "vscode": {
   "interpreter": {
    "hash": "6bf9315a3e438a76dffc3ce03878f1c39fa745101215db03063ac329271bd036"
   }
  }
 },
 "nbformat": 4,
 "nbformat_minor": 2
}
