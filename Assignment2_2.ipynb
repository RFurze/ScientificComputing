{
 "cells": [
  {
   "cell_type": "markdown",
   "metadata": {},
   "source": [
    "# Exercise 2\n",
    "(a) Consider the anisotropic diffusion equation:\n",
    "\n",
    "$$\n",
    "-\\left(\\mu_x\\frac{\\partial^2 u}{\\partial x^2} + \\mu_y\\frac{\\partial^2 u}{\\partial y^2}\\right) = f(x,y)\n",
    "$$\n",
    "\n",
    "for\n",
    "\n",
    "$$\n",
    "(x,y) \\in (0,1) \\times (0,1)\n",
    "$$\n",
    "\n",
    "and $u = 0$ on $\\Gamma$"
   ]
  },
  {
   "cell_type": "markdown",
   "metadata": {},
   "source": [
    "The discretisation yields:\n",
    "\n",
    "$$\n",
    "-\\mu_x \\left(\\frac{u_{i-1,j} - 2u_{i,j} + u_{i+1,j}}{h^2}\\right)-\\mu_y \\left(\\frac{u_{i,j-1} - 2u_{i,j} + u_{i,j+1}}{h^2}\\right) = f_{i,j}\n",
    "$$"
   ]
  },
  {
   "cell_type": "markdown",
   "metadata": {},
   "source": [
    "The second order stencil is given by:\n",
    "\n",
    "$$\n",
    "S = \n",
    "\\begin{bmatrix}\n",
    "s_{11} & s_{12} & s_{13}\\\\\n",
    "s_{21} & s_{22} & s_{23}\\\\\n",
    "s_{31} & s_{32} & s_{33}\\\\\n",
    "\\end{bmatrix}\n",
    "=\n",
    "\\begin{bmatrix}\n",
    "0 & -\\mu_y & 0\\\\\n",
    "-\\mu_x & 2(\\mu_x + \\mu_y) & -\\mu_x\\\\\n",
    "0 & -\\mu_y & 0\\\\\n",
    "\\end{bmatrix}\n",
    "$$"
   ]
  },
  {
   "cell_type": "markdown",
   "metadata": {},
   "source": [
    "(b) We define a source function source_function( x, y, h )\n"
   ]
  },
  {
   "cell_type": "code",
   "execution_count": 1,
   "metadata": {},
   "outputs": [],
   "source": [
    "import numpy as np\n",
    "def source_function( x, y ):\n",
    "    if ( x >= 0.1 and x <= 0.3 and y >= 0.1 and y <= 0.3 ):\n",
    "        return 1.0\n",
    "    else:\n",
    "        return 0.0\n",
    "\n",
    "np_source_function = np.vectorize(source_function)"
   ]
  },
  {
   "cell_type": "code",
   "execution_count": 2,
   "metadata": {},
   "outputs": [
    {
     "data": {
      "text/plain": [
       "1.0"
      ]
     },
     "execution_count": 2,
     "metadata": {},
     "output_type": "execute_result"
    }
   ],
   "source": [
    "source_function(0.2,0.2)"
   ]
  },
  {
   "cell_type": "code",
   "execution_count": 36,
   "metadata": {},
   "outputs": [
    {
     "data": {
      "image/png": "[encoded data removed]",
      "text/plain": [
       "<Figure size 640x480 with 1 Axes>"
      ]
     },
     "metadata": {},
     "output_type": "display_data"
    }
   ],
   "source": [
    "import matplotlib.pyplot as plt\n",
    "import numpy as np\n",
    "\n",
    "# Generate a grid of x and y values\n",
    "x_values = np.arange(0., 1.+h, h)\n",
    "y_values = np.arange(0., 1.+h, h)\n",
    "\n",
    "# Create a matrix to store the z values\n",
    "z_values = np.zeros((len(y_values), len(x_values)))\n",
    "\n",
    "# Calculate the z values using the source function\n",
    "for i, x in enumerate(x_values):\n",
    "    for j, y in enumerate(y_values):\n",
    "        z_values[j, i] = source_function(x, y)\n",
    "\n",
    "# Create the heatmap\n",
    "plt.imshow(z_values, cmap='Reds', interpolation='nearest', extent=[0, 1.+h, 0, 1.+h], origin='lower')\n",
    "\n",
    "# Add a grid\n",
    "plt.grid(which='major', axis='both', linestyle='-', color='k', linewidth=0.6)\n",
    "plt.minorticks_on()\n",
    "plt.grid(which='minor', axis='both', linestyle='-', color='k', linewidth=0.5)\n",
    "major_ticks = np.arange(0., 1.+h, h)\n",
    "minor_ticks = np.arange(0., 1.+h, h/5)\n",
    "\n",
    "plt.xticks(major_ticks)\n",
    "plt.yticks(major_ticks)\n",
    "\n",
    "# Show the plot\n",
    "plt.show()\n",
    "\n"
   ]
  },
  {
   "cell_type": "code",
   "execution_count": 5,
   "metadata": {},
   "outputs": [
    {
     "name": "stderr",
     "output_type": "stream",
     "text": [
      "/usr/lib/python3/dist-packages/scipy/__init__.py:146: UserWarning: A NumPy version >=1.17.3 and <1.25.0 is required for this version of SciPy (detected version 1.26.2\n",
      "  warnings.warn(f\"A NumPy version >={np_minversion} and <{np_maxversion}\"\n"
     ]
    }
   ],
   "source": [
    "import scipy as sp\n",
    "import numpy as np\n",
    "from scipy.sparse.linalg import norm\n",
    "\n",
    "def myNewtonSys(fnon, jac, x0, tol, maxk, *fnonargs):\n",
    "    # fnon     - name of the nonlinear function f(x)\n",
    "    # jac      - name of the Jacobian function J(x)\n",
    "    # x0       - initial guess for the solution x0\n",
    "    # tol      - stopping tolerance for Newton's iteration\n",
    "    # maxk     - maximum number of Newton iterations before stopping\n",
    "    # fnonargs - optional arguments that will be passed to the nonlinear function (useful for additional function parameters)\n",
    "\n",
    "    k = 0\n",
    "    x = x0\n",
    "\n",
    "    F = eval(fnon)(x,*fnonargs)\n",
    "    Fsize = F.get_shape()\n",
    "    n = Fsize[0]\n",
    "\n",
    "    normF = (F.data ** 2).sum()\n",
    "\n",
    "    print(' k    f(xk)')\n",
    "\n",
    "    # Main Newton loop\n",
    "    while (normF > tol and k <= maxk):\n",
    "        # Evaluate Jacobian matrix\n",
    "        J = eval(jac)(x,n,fnon,F,*fnonargs)\n",
    "\n",
    "        # Take Newton step by solving the tangent problem\n",
    "        # (we will use the dense linear solver from NumPy for now...)\n",
    "        delta = np.linalg.solve(J.toarray(),F.toarray())\n",
    "        x = x - delta\n",
    "\n",
    "        F = eval(fnon)(x,*fnonargs)\n",
    "        normF = (F.data ** 2).sum()\n",
    "\n",
    "        print('{0:2.0f}  {1:2.2e}'.format(k, normF))\n",
    "        k += 1\n",
    "\n",
    "    if (k >= maxk):\n",
    "        print('Not converged')\n",
    "    else:\n",
    "        return x"
   ]
  },
  {
   "cell_type": "markdown",
   "metadata": {},
   "source": [
    "(c) Create the matrix for the diffusion equation"
   ]
  },
  {
   "cell_type": "code",
   "execution_count": 6,
   "metadata": {},
   "outputs": [],
   "source": [
    "# Finds the index k = 0,1,2,...,N-1 in the vector corresponding to the grid\n",
    "# point (x_i, y_j) where i,j = 0,1,2,...,n-1\n",
    "\n",
    "def indexFD(i, j, n):\n",
    "  return ( i*n + j )"
   ]
  },
  {
   "cell_type": "code",
   "execution_count": 7,
   "metadata": {},
   "outputs": [],
   "source": [
    "import scipy as sp\n",
    "import numpy as np\n",
    "\n",
    "def diffusionMatrix( mux, muy, n ):\n",
    "\n",
    "  N = n**2\n",
    "\n",
    "  A = sp.sparse.lil_array((N, N), dtype=np.float64)\n",
    "  h = 1. / (n-1);\n",
    "\n",
    "  # Pass through all grid points and apply local stencil\n",
    "\n",
    "  stencil = np.array([(mux+muy)*2., -mux*1., -mux*1., -muy*1., -muy*1.]) / h**2\n",
    "\n",
    "  # Loop over each internal node in the grid, i,j = 1,2,...,n-2\n",
    "  for i in range(1,n-1):\n",
    "    for j in range(1,n-1):\n",
    "      # Find k-indices of the four neighbouring nodes\n",
    "      localStencilIndices = np.array([indexFD(i,j,n), indexFD(i+1,j,n), indexFD(i-1,j,n), indexFD(i,j+1,n), indexFD(i,j-1,n)])\n",
    "\n",
    "      # Add the local stencil for node (x_i,y_j) to the matrix\n",
    "      currentRow = indexFD(i,j,n)\n",
    "      for m in range (0,5):\n",
    "        A[currentRow, localStencilIndices[m]] = A[currentRow, localStencilIndices[m]] + stencil[m]\n",
    "\n",
    "  # After the matrix A has been assembled, we convert it to the column-major format\n",
    "  # for more efficient computations\n",
    "  A = A.tocsc()\n",
    "\n",
    "  return (A)"
   ]
  },
  {
   "cell_type": "code",
   "execution_count": 8,
   "metadata": {},
   "outputs": [],
   "source": [
    "import numpy as np\n",
    "\n",
    "def boundaryConditions(n):\n",
    "\n",
    "  extNodes = []\n",
    "\n",
    "  # Find nodes at the boundary of the square\n",
    "  for j in range(0,n):\n",
    "    extNodes.append( indexFD(j,0,n) )\n",
    "    extNodes.append( indexFD(j,n-1,n) )\n",
    "    extNodes.append( indexFD(0,j,n) )\n",
    "    extNodes.append( indexFD(n-1,j,n) )\n",
    "\n",
    "  extNodes = np.unique(extNodes)\n",
    "  intNodes = np.setdiff1d(np.arange(0,n**2), extNodes);\n",
    "\n",
    "  return intNodes, extNodes"
   ]
  },
  {
   "cell_type": "code",
   "execution_count": 9,
   "metadata": {},
   "outputs": [],
   "source": [
    "import scipy as sp\n",
    "import copy\n",
    "\n",
    "def fdJacobian(x,n,fnon,F0,*fnonargs):\n",
    "  # We replace the dense NumPy array with a sparse SciPy matrix\n",
    "  # (list-of-lists format is used for assembly)\n",
    "\n",
    "  J = sp.sparse.lil_array((n, n), dtype=np.float64)\n",
    "  h = 10e-8\n",
    "\n",
    "  for k in range(0,n):\n",
    "    xb = copy.deepcopy(x)\n",
    "    xb[k,0] = xb[k,0] + h\n",
    "\n",
    "    F = eval(fnon)(xb,*fnonargs)\n",
    "\n",
    "    for i in range(0,n):\n",
    "      J[i,k] = (F[i,0] - F0[i,0]) / h\n",
    "\n",
    "  # Return the Jacobian in column-major sparse format\n",
    "  return J.tocsc()"
   ]
  },
  {
   "cell_type": "code",
   "execution_count": 10,
   "metadata": {},
   "outputs": [],
   "source": [
    "import math\n",
    "\n",
    "def diffusionF( u, A, n ):\n",
    "\n",
    "  N = n**2\n",
    "  f = sp.sparse.lil_array((N, 1), dtype=np.float64)\n",
    "\n",
    "  # Find the internal nodes and the boundary nodes\n",
    "  intNodes, extNodes  = boundaryConditions(n)\n",
    "\n",
    "  # Evaluate the nonlinear Laplacian equation (make sure to use sparse matrix-vector multiplication)\n",
    "\n",
    "  Au = A[intNodes,:] @ u # Sparse matrix-vector multiplication\n",
    "  F = sp.sparse.lil_array((N, 1), dtype=np.float64)\n",
    "\n",
    "  # Evaluate the nonlinear function F(u) = (u - 1)^2\n",
    "  for k in intNodes:\n",
    "    F[k] = source_function( math.floor(k/n)/(n-1), k%n/(n-1) )\n",
    "\n",
    "  f[intNodes] = Au - F[intNodes]\n",
    "\n",
    "  # Set value of U at boundary nodes (this imposes u=0 at the boundary)\n",
    "  f[extNodes] = u[extNodes]\n",
    "\n",
    "  return f.tocsc()"
   ]
  },
  {
   "cell_type": "markdown",
   "metadata": {},
   "source": [
    "Main PDE solver"
   ]
  },
  {
   "cell_type": "code",
   "execution_count": 11,
   "metadata": {},
   "outputs": [],
   "source": [
    "import scipy as sp\n",
    "import matplotlib.pyplot as plt\n",
    "import numpy as np\n",
    "import time\n",
    "\n",
    "def diffusionSolver(mux, muy, h):\n",
    "\n",
    "  n = int(1./h + 1)  # dimension of spatial mesh in each dimension\n",
    "  N = n**2      # total number of grid points\n",
    "\n",
    "  # Initial guess for Newton is the zero vector\n",
    "  u0 = sp.sparse.csc_array( (N,1), dtype=np.float64 )\n",
    "\n",
    "  # Assemble the Laplacian matrix\n",
    "  A = diffusionMatrix(mux, muy, n)\n",
    "\n",
    "  # We plot the sparsity pattern of the matrix A to check that it has been\n",
    "  # correctly assembled.\n",
    "  fig = plt.figure()\n",
    "  ax = fig.add_subplot(111)\n",
    "  cax = ax.matshow(A.toarray(), vmin=-4./h*mux, vmax=4./h*mux, cmap='coolwarm')\n",
    "  plt.title(\"Sparsity pattern\")\n",
    "  fig.colorbar(cax)\n",
    "  plt.show()\n",
    "\n",
    "  # Newton iteration to solve nonlinear PDE\n",
    "  u = myNewtonSys( \"diffusionF\", \"fdJacobian\", u0, 1e-6, 100, A, n )\n",
    "\n",
    "  return u"
   ]
  },
  {
   "cell_type": "code",
   "execution_count": 44,
   "metadata": {},
   "outputs": [
    {
     "data": {
      "image/png": "[encoded data removed]",
      "text/plain": [
       "<Figure size 640x480 with 2 Axes>"
      ]
     },
     "metadata": {},
     "output_type": "display_data"
    },
    {
     "name": "stdout",
     "output_type": "stream",
     "text": [
      " k    f(xk)\n",
      " 0  1.71e-24\n"
     ]
    }
   ],
   "source": [
    "h = 0.1\n",
    "mux = 100\n",
    "muy = 100\n",
    "sol = diffusionSolver(mux, muy, h)"
   ]
  },
  {
   "cell_type": "code",
   "execution_count": 46,
   "metadata": {},
   "outputs": [
    {
     "data": {
      "image/png": "[encoded data removed]",
      "text/plain": [
       "<Figure size 640x480 with 1 Axes>"
      ]
     },
     "metadata": {},
     "output_type": "display_data"
    }
   ],
   "source": [
    "import matplotlib.pyplot as plt\n",
    "import numpy as np\n",
    "\n",
    "# Generate a grid of x and y values\n",
    "x_values = np.arange(0., 1.+h, h)\n",
    "y_values = np.arange(0., 1.+h, h)\n",
    "\n",
    "# Create a matrix to store the z values\n",
    "z_values = sol.reshape(int(1./h+1), int(1./h+1))\n",
    "\n",
    "# Create the heatmap\n",
    "plt.imshow(z_values, cmap='Reds', interpolation='nearest', extent=[0, 1.+h, 0, 1.+h], origin='lower')\n",
    "\n",
    "# Add a grid\n",
    "plt.grid(which='major', axis='both', linestyle='-', color='k', linewidth=0.6)\n",
    "plt.minorticks_on()\n",
    "plt.grid(which='minor', axis='both', linestyle='-', color='k', linewidth=0.5)\n",
    "major_ticks = np.arange(0., 1.+h, h)\n",
    "minor_ticks = np.arange(0., 1.+h, h/5)\n",
    "\n",
    "plt.xticks(major_ticks)\n",
    "plt.yticks(major_ticks)\n",
    "\n",
    "# Show the plot\n",
    "plt.show()\n",
    "\n"
   ]
  }
 ],
 "metadata": {
  "kernelspec": {
   "display_name": "Python 3",
   "language": "python",
   "name": "python3"
  },
  "language_info": {
   "codemirror_mode": {
    "name": "ipython",
    "version": 3
   },
   "file_extension": ".py",
   "mimetype": "text/x-python",
   "name": "python",
   "nbconvert_exporter": "python",
   "pygments_lexer": "ipython3",
   "version": "3.10.12"
  }
 },
 "nbformat": 4,
 "nbformat_minor": 2
}
