{
 "cells": [
  {
   "cell_type": "code",
   "execution_count": 1,
   "metadata": {},
   "outputs": [],
   "source": [
    "import numpy as np\n",
    "def source_function( x, y ):\n",
    "    if ( x >= 0.1 and x <= 0.3 and y >= 0.1 and y <= 0.3 ):\n",
    "        return 1.0\n",
    "    else:\n",
    "        return 0.0\n",
    "\n",
    "np_source_function = np.vectorize(source_function)"
   ]
  },
  {
   "cell_type": "code",
   "execution_count": 2,
   "metadata": {},
   "outputs": [],
   "source": [
    "# Finds the index k = 0,1,2,...,N-1 in the vector corresponding to the grid\n",
    "# point (x_i, y_j) where i,j = 0,1,2,...,n-1\n",
    "\n",
    "def indexFD(i, j, n):\n",
    "  k = ( i*n + j )\n",
    "  return k\n",
    "\n",
    "def reverseIndexFD(k, n):\n",
    "    i = k // n\n",
    "    j = k % n\n",
    "    return i, j"
   ]
  },
  {
   "cell_type": "code",
   "execution_count": 3,
   "metadata": {},
   "outputs": [],
   "source": [
    "import numpy as np\n",
    "\n",
    "def boundaryConditions(n):\n",
    "\n",
    "  extNodes = []\n",
    "\n",
    "  # Find nodes at the boundary of the square\n",
    "  for j in range(0,n):\n",
    "    extNodes.append( indexFD(j,0,n) )\n",
    "    extNodes.append( indexFD(j,n-1,n) )\n",
    "    extNodes.append( indexFD(0,j,n) )\n",
    "    extNodes.append( indexFD(n-1,j,n) )\n",
    "\n",
    "  extNodes = np.unique(extNodes)\n",
    "  intNodes = np.setdiff1d(np.arange(0,n**2), extNodes);\n",
    "\n",
    "  return intNodes, extNodes"
   ]
  },
  {
   "cell_type": "code",
   "execution_count": 4,
   "metadata": {},
   "outputs": [
    {
     "name": "stderr",
     "output_type": "stream",
     "text": [
      "/usr/lib/python3/dist-packages/scipy/__init__.py:146: UserWarning: A NumPy version >=1.17.3 and <1.25.0 is required for this version of SciPy (detected version 1.26.1\n",
      "  warnings.warn(f\"A NumPy version >={np_minversion} and <{np_maxversion}\"\n"
     ]
    }
   ],
   "source": [
    "import scipy as sp\n",
    "import numpy as np\n",
    "\n",
    "def diffusionMatrix( mux, muy, h ):\n",
    "  n = int(1./h + 1)\n",
    "  N = n**2\n",
    "  A = sp.sparse.lil_array((N, N), dtype=np.float64)\n",
    "\n",
    "  # Pass through all grid points and apply local stencil\n",
    "\n",
    "  stencil = np.array([(mux+muy)*2., -mux*1., -mux*1., -muy*1., -muy*1.]) / h**2\n",
    "\n",
    "  # Loop over each internal node in the grid, i,j = 1,2,...,n-2\n",
    "  for i in range(1,n-1):\n",
    "    for j in range(1,n-1):\n",
    "      # Find k-indices of the four neighbouring nodes\n",
    "      localStencilIndices = np.array([indexFD(i,j,n), indexFD(i+1,j,n), indexFD(i-1,j,n), indexFD(i,j+1,n), indexFD(i,j-1,n)])\n",
    "\n",
    "      # Add the local stencil for node (x_i,y_j) to the matrix\n",
    "      currentRow = indexFD(i,j,n)\n",
    "      for m in range (0,5):\n",
    "        A[currentRow, localStencilIndices[m]] = A[currentRow, localStencilIndices[m]] + stencil[m]\n",
    "\n",
    "  # After the matrix A has been assembled, we convert it to the column-major format\n",
    "  # for more efficient computations\n",
    "  A = A.tocsc()\n",
    "\n",
    "  return (A)"
   ]
  },
  {
   "cell_type": "markdown",
   "metadata": {},
   "source": [
    "Check sparsity pattern of full matrix A and the factorised LU matrices."
   ]
  },
  {
   "cell_type": "code",
   "execution_count": null,
   "metadata": {},
   "outputs": [],
   "source": [
    "#Check sparsity patterns\n",
    "h = 0.1\n",
    "mux = 0.1\n",
    "muy = 0.1\n",
    "n = int(1./h + 1)  # dimension of spatial mesh in each dimension\n",
    "N = n**2\n",
    "intNodes, extNodes = boundaryConditions(n)\n",
    "\n",
    "F = np.zeros((N, 1), dtype=np.float64)\n",
    "\n",
    "# Evaluate the source function\n",
    "for k in range (0,N):\n",
    "    i, j = reverseIndexFD(k, n)\n",
    "    F[k] = source_function( i*h, j*h )\n",
    "\n",
    "# Assemble the diffusion matrix\n",
    "A = diffusionMatrix(mux, muy, h)\n",
    "A_int = A[intNodes][:, intNodes]\n",
    "F_int = F[intNodes]\n",
    "\n",
    "print(f'Size of F_int: {F_int.shape}')\n",
    "print(f'Size of F: {F.shape}')\n",
    "\n",
    "# We plot the sparsity pattern of the matrix A to check that it has been\n",
    "# correctly assembled.\n",
    "#LU1 = sp.sparse.linalg.splu(A_int, 'NATURAL')\n",
    "LU1 = sp.sparse.linalg.spilu(A_int, drop_tol=10)\n",
    "L = LU1.L\n",
    "U = LU1.U\n",
    "L = L.toarray()\n",
    "U = U.toarray()\n",
    "#U = U.todense()\n",
    "#L = L.todense()\n",
    "\n",
    "fig, ax = plt.subplots(1, 3)\n",
    "ax1 = ax[0]\n",
    "ax2 = ax[1]\n",
    "ax3 = ax[2]\n",
    "\n",
    "\n",
    "cax1 = ax1.spy(A_int.toarray())\n",
    "ax1.set_title(\"Sparsity pattern\")\n",
    "\n",
    "ax2.spy(U)\n",
    "ax2.set_title(\"(U)\")\n",
    "\n",
    "ax3.spy(L)\n",
    "ax3.set_title(\"(L)\")\n",
    "plt.show()\n",
    "\n",
    "\n"
   ]
  },
  {
   "cell_type": "markdown",
   "metadata": {},
   "source": [
    "Check the speed without reoordering and with."
   ]
  },
  {
   "cell_type": "code",
   "execution_count": null,
   "metadata": {},
   "outputs": [],
   "source": [
    "import time\n",
    "n = A_int.get_shape()[0]\n",
    "b = np.ones((n,1), dtype=float)\n",
    "\n",
    "tstart = time.thread_time()\n",
    "\n",
    "for i in range(0,1000):\n",
    "  #LU1 = sp.sparse.linalg.splu(A_int, 'NATURAL') # Compute A = LU without any reordering\n",
    "  LU1 = sp.sparse.linalg.spilu(A_int, drop_tol=10) # Compute A = LU without any reordering\n",
    "  LU1.solve(b)\n",
    "\n",
    "tend = time.thread_time()\n",
    "\n",
    "print('Mean time spent for one linear solve = ' + str((tend-tstart) * 10.) + ' milliseconds')"
   ]
  },
  {
   "cell_type": "markdown",
   "metadata": {},
   "source": [
    "(d) incomplete-LU preconditioner"
   ]
  },
  {
   "cell_type": "markdown",
   "metadata": {},
   "source": [
    "We continue to solve the system with the diffusion gradient, but now precondition the system using the incomplete-LU matrix."
   ]
  },
  {
   "cell_type": "code",
   "execution_count": 12,
   "metadata": {},
   "outputs": [],
   "source": [
    "import scipy as sp\n",
    "import matplotlib.pyplot as plt\n",
    "import numpy as np\n",
    "import time\n",
    "from scipy.sparse.linalg import norm\n",
    "\n",
    "def diffusionGradSolver( mux, muy, h, tol, maxiter, M ):\n",
    "  n = int(1./h + 1)  # dimension of spatial mesh in each dimension\n",
    "  N = n**2\n",
    "  f = sp.sparse.csc_array((N, 1), dtype=np.float64)\n",
    "\n",
    "  F = np.zeros((N, 1), dtype=np.float64)\n",
    "  intNodes, extNodes = boundaryConditions(n)\n",
    "  \n",
    "  # Placeholder for an initial guess\n",
    "  u0 = np.zeros((N, 1))\n",
    "\n",
    "  # Evaluate the source function\n",
    "  for k in range (0,N):\n",
    "    i, j = reverseIndexFD(k, n)\n",
    "    F[k] = source_function( i*h, j*h )\n",
    "  \n",
    "  # Assemble the diffusion matrix\n",
    "  A = diffusionMatrix(mux, muy, h)\n",
    "  A_int = A[intNodes][:, intNodes]\n",
    "  F_int = F[intNodes]\n",
    "\n",
    "  def iterate_count(x):\n",
    "    iterate_count.iterate_counts += 1\n",
    "\n",
    "  iterate_count.iterate_counts = 0\n",
    "\n",
    "  f[intNodes], info = sp.sparse.linalg.cg(M, F_int, x0=None, tol=tol, maxiter=maxiter, M=None, callback=iterate_count, atol=None)\n",
    "  print(f'Exit code: {info}')\n",
    "  print(f'NUmber of iterations: {iterate_count.iterate_counts}')\n",
    "\n",
    "  f[extNodes] = u0[extNodes]\n",
    "  \n",
    "  return f.toarray()\n"
   ]
  },
  {
   "cell_type": "code",
   "execution_count": 25,
   "metadata": {},
   "outputs": [
    {
     "name": "stderr",
     "output_type": "stream",
     "text": [
      "/usr/lib/python3/dist-packages/scipy/sparse/linalg/_dsolve/linsolve.py:411: SparseEfficiencyWarning: splu requires CSC matrix format\n",
      "  warn('splu requires CSC matrix format', SparseEfficiencyWarning)\n"
     ]
    }
   ],
   "source": [
    "import scipy as sp\n",
    "import matplotlib.pyplot as plt\n",
    "import numpy as np\n",
    "import time\n",
    "from scipy.sparse.linalg import norm\n",
    "\n",
    "h = 0.02\n",
    "mux = 1\n",
    "muy = 1\n",
    "droptol = 0.001\n",
    "\n",
    "intNodes, extNodes = boundaryConditions(int(1./h+1))\n",
    "\n",
    "#Preconditioner matrix\n",
    "MA = diffusionMatrix(mux, muy, h)\n",
    "MA = MA.todense()\n",
    "MA_intNodes = MA[intNodes][:, intNodes]\n",
    "M = sp.sparse.linalg.spilu(MA_intNodes, drop_tol=droptol)\n",
    "L = M.L\n",
    "U = M.U\n",
    "#L = L.toarray()\n",
    "#M = M.toarray()\n",
    "\n",
    "M2 = L@U\n",
    "M2 = M2.toarray()\n"
   ]
  },
  {
   "cell_type": "code",
   "execution_count": 26,
   "metadata": {},
   "outputs": [
    {
     "name": "stdout",
     "output_type": "stream",
     "text": [
      "Exit code: 0\n",
      "NUmber of iterations: 184\n"
     ]
    },
    {
     "name": "stderr",
     "output_type": "stream",
     "text": [
      "/usr/lib/python3/dist-packages/scipy/sparse/_index.py:146: SparseEfficiencyWarning: Changing the sparsity structure of a csc_matrix is expensive. lil_matrix is more efficient.\n",
      "  self._set_arrayXarray(i, j, x)\n"
     ]
    }
   ],
   "source": [
    "solgrad2 = diffusionGradSolver(1, 1, 0.02, 1e-6, 10000, M2)"
   ]
  },
  {
   "cell_type": "code",
   "execution_count": 27,
   "metadata": {},
   "outputs": [
    {
     "data": {
      "image/png": "[encoded data removed]",
      "text/plain": [
       "<Figure size 640x480 with 2 Axes>"
      ]
     },
     "metadata": {},
     "output_type": "display_data"
    }
   ],
   "source": [
    "import matplotlib.pyplot as plt\n",
    "import numpy as np\n",
    "from matplotlib import cm\n",
    "from matplotlib.ticker import LinearLocator\n",
    "import matplotlib.patches as patches\n",
    "\n",
    "fig, ax = plt.subplots()\n",
    "hx = 0.1\n",
    "# Make data.\n",
    "X = np.arange(0., 1.+h, h)\n",
    "Y = np.arange(0., 1.+h, h)\n",
    "X, Y = np.meshgrid(X, Y)\n",
    "Z = solgrad2.reshape(int(1./h+1),int(1./h+1))\n",
    "\n",
    "# Plot the surface.\n",
    "surf = ax.pcolor(X, Y, Z[:-1,:-1], shading='flat', cmap=cm.coolwarm,\n",
    "                       linewidth=0, antialiased=False)\n",
    "\n",
    "# Create a Rectangle patch\n",
    "rect = patches.Rectangle((0.1, 0.1), 0.2, 0.2, linewidth=1, edgecolor='k', facecolor='none')\n",
    "\n",
    "# Add the patch to the Axes\n",
    "ax.add_patch(rect)\n",
    "\n",
    "# Add a color bar which maps values to colors.\n",
    "fig.colorbar(surf, shrink=0.5, aspect=5)\n",
    "hx = 0.1\n",
    "# Add a grid\n",
    "plt.grid(which='major', axis='both', linestyle='-', color='k', linewidth=0.5)\n",
    "plt.minorticks_on()\n",
    "plt.grid(which='minor', axis='both', linestyle='-', color='k', linewidth=0.5)\n",
    "major_ticks = np.arange(0., 1.+hx, hx)\n",
    "minor_ticks = np.arange(0., 1.+hx, hx)\n",
    "\n",
    "plt.xticks(major_ticks)\n",
    "plt.yticks(major_ticks)\n",
    "\n",
    "plt.show()"
   ]
  },
  {
   "cell_type": "markdown",
   "metadata": {},
   "source": [
    "(d) My PCG"
   ]
  },
  {
   "cell_type": "code",
   "execution_count": 28,
   "metadata": {},
   "outputs": [],
   "source": [
    "import scipy as sp\n",
    "import numpy as np\n",
    "from scipy.sparse.linalg import norm\n",
    "\n",
    "def myPCG( A, b, L, U, tol, maxit ):\n",
    "    #A is the matrix produced by diffusionMatrix\n",
    "    #b is the RHS calculated by the source function\n",
    "    #L and U are the factors of the preconditioner from spilu\n",
    "    #tol is the tolerance for the residual\n",
    "    # maxit is the maximum number of iterations\n",
    "    N = len(b)\n",
    "\n",
    "    r = b - A@x0 #residual\n",
    "    M = L@U\n",
    "    z0 = ...\n",
    "    z = z0\n",
    "    r = M@z #preconditioned residual\n",
    "    r = r0\n",
    "    d0 = z0 #preconditioned search direction\n",
    "    d = d0\n",
    "    \n",
    "\n",
    "    while i < maxit and norm(r) > tol:\n",
    "        alpha = (r0.T@z0)/(d.T@A@d)\n",
    "        x = x + alpha*d\n",
    "        r = r0 - alpha*A@d0\n",
    "        beta = (r1.T@M@r1)/(r0.T@M@r0)\n",
    "        d1 = r1 + beta*d0\n",
    "        r0 = r1\n",
    "        d0 = d1\n",
    "        i += 1\n",
    "\n",
    "    iterate_counts = 0\n",
    "    def iterate_count(x):\n",
    "        iterate_count.iterate_counts += 1\n",
    "\n",
    "    iterate_count.iterate_counts = 0\n",
    "\n",
    "    M = L@U\n",
    "\n",
    "    f = sp.sparse.csc_array((N, 1), dtype=np.float64)\n",
    "    f, info = sp.sparse.linalg.cg(A, b, x0=None, tol=tol, maxiter=maxit, M=M, callback=iterate_count, atol=None)\n",
    "    return f, info"
   ]
  },
  {
   "cell_type": "code",
   "execution_count": 30,
   "metadata": {},
   "outputs": [],
   "source": [
    "#Using the myPCG function\n",
    "mux = 1\n",
    "muy = 1\n",
    "h = 0.02\n",
    "n = int(1./h + 1)  # dimension of spatial mesh in each dimension\n",
    "N = n**2\n",
    "droptol = 0.1\n",
    "tol = 0.1\n",
    "maxit = 10000\n",
    "\n",
    "A = diffusionMatrix(mux, muy, h)\n",
    "intNodes, extNodes = boundaryConditions(n)\n",
    "b = np.zeros((N, 1), dtype=np.float64)\n",
    "\n",
    "# Evaluate the source function\n",
    "for k in range (0,N):\n",
    "    i, j = reverseIndexFD(k, n)\n",
    "    b[k] = source_function( i*h, j*h )\n",
    "\n",
    "A_int = A[intNodes][:, intNodes]\n",
    "b_int = b[intNodes]\n",
    "\n",
    "M = sp.sparse.linalg.spilu(A_int, drop_tol=droptol)\n",
    "\n",
    "#sol = myPCG(A_int,b_int,M.L,M.U,tol,maxit)\n",
    "\n"
   ]
  },
  {
   "cell_type": "code",
   "execution_count": null,
   "metadata": {},
   "outputs": [],
   "source": [
    "import scipy as sp\n",
    "import matplotlib.pyplot as plt\n",
    "import numpy as np\n",
    "import time\n",
    "from scipy.sparse.linalg import norm\n",
    "\n",
    "h = 0.1\n",
    "n = int(1./h + 1)\n",
    "N = n**2\n",
    "mux = 1\n",
    "muy = 1\n",
    "droptol = 0.1\n",
    "intNodes, extNodes = boundaryConditions(int(1./h+1))\n",
    "\n",
    "#A matrix\n",
    "A = diffusionMatrix(mux, muy, h)\n",
    "A = A.todense()\n",
    "\n",
    "A_intNodes = A[intNodes][:, intNodes]\n",
    "\n",
    "solgrad3 = np.zeros_like(A)\n",
    "#Preconditioner matrix\n",
    "M = sp.sparse.linalg.spilu(A_intNodes, drop_tol=droptol)\n",
    "\n",
    "#Seperate L and U matrices\n",
    "L = M.L\n",
    "U = M.U\n",
    "\n",
    "#b matrix\n",
    "F = np.zeros((N, 1), dtype=np.float64)\n",
    "\n",
    "# Evaluate the source function\n",
    "for k in range (0,N):\n",
    "    i, j = reverseIndexFD(k, n)\n",
    "    F[k] = source_function( i*h, j*h )\n",
    "\n",
    "F_int = F[intNodes]\n",
    "\n",
    "solgrad3[intNodes] = myPCG(A_intNodes, F_int, L, U, 1e-6, 1000)\n",
    "solgrad3[extNodes] = 0\n",
    "\n"
   ]
  },
  {
   "cell_type": "code",
   "execution_count": null,
   "metadata": {},
   "outputs": [],
   "source": [
    "import matplotlib.pyplot as plt\n",
    "import numpy as np\n",
    "from matplotlib import cm\n",
    "from matplotlib.ticker import LinearLocator\n",
    "import matplotlib.patches as patches\n",
    "\n",
    "fig, ax = plt.subplots()\n",
    "h = 0.1\n",
    "hx = 0.1\n",
    "# Make data.\n",
    "X = np.arange(0., 1.+h, h)\n",
    "Y = np.arange(0., 1.+h, h)\n",
    "X, Y = np.meshgrid(X, Y)\n",
    "Z = solgrad3\n",
    "\n",
    "# Plot the surface.\n",
    "surf = ax.pcolor(X, Y, Z, cmap=cm.coolwarm,\n",
    "                       linewidth=0, antialiased=False)\n",
    "\n",
    "# Create a Rectangle patch\n",
    "rect = patches.Rectangle((0.1, 0.1), 0.2, 0.2, linewidth=1, edgecolor='k', facecolor='none')\n",
    "\n",
    "# Add the patch to the Axes\n",
    "ax.add_patch(rect)\n",
    "\n",
    "# Add a color bar which maps values to colors.\n",
    "fig.colorbar(surf, shrink=0.5, aspect=5)\n",
    "hx = 0.1\n",
    "# Add a grid\n",
    "plt.grid(which='major', axis='both', linestyle='-', color='k', linewidth=0.5)\n",
    "plt.minorticks_on()\n",
    "plt.grid(which='minor', axis='both', linestyle='-', color='k', linewidth=0.5)\n",
    "major_ticks = np.arange(0., 1.+hx, hx)\n",
    "minor_ticks = np.arange(0., 1.+hx, hx)\n",
    "\n",
    "plt.xticks(major_ticks)\n",
    "plt.yticks(major_ticks)\n",
    "\n",
    "plt.show()"
   ]
  }
 ],
 "metadata": {
  "kernelspec": {
   "display_name": "Python 3",
   "language": "python",
   "name": "python3"
  },
  "language_info": {
   "codemirror_mode": {
    "name": "ipython",
    "version": 3
   },
   "file_extension": ".py",
   "mimetype": "text/x-python",
   "name": "python",
   "nbconvert_exporter": "python",
   "pygments_lexer": "ipython3",
   "version": "3.10.12"
  }
 },
 "nbformat": 4,
 "nbformat_minor": 2
}
