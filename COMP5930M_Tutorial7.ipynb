{
  "cells": [
    {
      "cell_type": "markdown",
      "metadata": {
        "id": "xApGMsyQB5rK"
      },
      "source": [
        "COMP5930M Scientific Computation - Tutorial 7  \\\\\n",
        "Example of a 2-D PDE"
      ],
      "id": "xApGMsyQB5rK"
    },
    {
      "cell_type": "markdown",
      "metadata": {
        "id": "5Nxt3Xp7LvYm"
      },
      "source": [
        "A nonlinear Laplace equation is: find $u(x,y)$ s.t.\n",
        "\n",
        "$$\n",
        "  -\\nu \\left( \\frac{\\partial^2 u}{\\partial x^2} + \\frac{\\partial^2 u}{\\partial y^2} \\right) \\ = \\ f(u)\n",
        "$$\n",
        "\n",
        "defined in a domain $(x,y) \\in \\Omega \\subset \\mathbb{R}^2$ (here we use the unit square, $\\Omega = (0,1)\\times(0,1)$ for simplicity) with suitable  boundary conditions  e.g.\n",
        "\n",
        "$$\n",
        "u(x,y) = u_0(x,y) \\textrm{ for all } (x,y) \\in \\partial \\Omega.\n",
        "$$\n",
        "\n",
        "We will need our previous implementation of Newton's method for systems:"
      ],
      "id": "5Nxt3Xp7LvYm"
    },
    {
      "cell_type": "code",
      "execution_count": 20,
      "metadata": {
        "id": "dXeQlmSjLtP-"
      },
      "outputs": [],
      "source": [
        "import scipy as sp\n",
        "import numpy as np\n",
        "from scipy.sparse.linalg import norm\n",
        "\n",
        "def myNewtonSys(fnon, jac, x0, tol, maxk, *fnonargs):\n",
        "    # fnon     - name of the nonlinear function f(x)\n",
        "    # jac      - name of the Jacobian function J(x)\n",
        "    # x0       - initial guess for the solution x0\n",
        "    # tol      - stopping tolerance for Newton's iteration\n",
        "    # maxk     - maximum number of Newton iterations before stopping\n",
        "    # fnonargs - optional arguments that will be passed to the nonlinear function (useful for additional function parameters)\n",
        "\n",
        "    k = 0\n",
        "    x = x0\n",
        "\n",
        "    F = eval(fnon)(x,*fnonargs)\n",
        "    Fsize = F.get_shape()\n",
        "    n = Fsize[0]\n",
        "\n",
        "    normF = (F.data ** 2).sum()\n",
        "\n",
        "    print(' k    f(xk)')\n",
        "\n",
        "    # Main Newton loop\n",
        "    while (normF > tol and k <= maxk):\n",
        "        # Evaluate Jacobian matrix\n",
        "        J = eval(jac)(x,n,fnon,F,*fnonargs)\n",
        "\n",
        "        # Take Newton step by solving the tangent problem\n",
        "        # (we will use the dense linear solver from NumPy for now...)\n",
        "        delta = np.linalg.solve(J.toarray(),F.toarray())\n",
        "        x = x - delta\n",
        "\n",
        "        F = eval(fnon)(x,*fnonargs)\n",
        "        normF = (F.data ** 2).sum()\n",
        "\n",
        "        print('{0:2.0f}  {1:2.2e}'.format(k, normF))\n",
        "        k += 1\n",
        "\n",
        "    if (k >= maxk):\n",
        "        print('Not converged')\n",
        "    else:\n",
        "        return x"
      ],
      "id": "dXeQlmSjLtP-"
    },
    {
      "cell_type": "markdown",
      "source": [
        "The first step is to discretise the Laplacian operator\n",
        "$\\frac{\\partial^2 u}{\\partial x^2} + \\frac{\\partial^2 u}{\\partial y^2} =: \\triangle u$ as\n",
        "\n",
        "$$\n",
        "  \\triangle u  \\approx   \\frac{u(x_{i+1}, y_j)+u(x_{i}, y_{j+1})-4 u(x_i,y_j) + u(x_{i-1},y_j)+u(x_{i},y_{j-1})}{h^2}    \n",
        "$$\n",
        "\n",
        "This can be visualised using a finite-difference stencil that represents the pattern of coefficients that each equation $\\triangle u(x_i,y_j)$ contributes to the system matrix:"
      ],
      "metadata": {
        "id": "57i5UZTjxmGT"
      },
      "id": "57i5UZTjxmGT"
    },
    {
      "cell_type": "code",
      "execution_count": 21,
      "metadata": {
        "id": "oad8HiZWPZ8l"
      },
      "outputs": [],
      "source": [
        "import scipy as sp\n",
        "import numpy as np\n",
        "\n",
        "def laplacianMatrix( nu, n ):\n",
        "\n",
        "  # Allocate space for the matrix -(d^2u/dx^2 + d^2u/dy^2)\n",
        "\n",
        "  # We will use the SciPy sparse matrix implementations for this, namely the\n",
        "  # compressed sparse column -format (CSC). This is mostly compatible with\n",
        "  # NumPy arrays but uses less memory and is computationally more efficient,\n",
        "  # provided we use sparse linear algebra to solve the tangent problem.\n",
        "\n",
        "  N = n**2\n",
        "\n",
        "  # We use a list-of-lists format for more efficient assembly\n",
        "  A = sp.sparse.lil_array((N, N), dtype=np.float64)\n",
        "  h = 1. / (n-1);\n",
        "\n",
        "  # Pass through all grid points and apply local stencil\n",
        "  #\n",
        "  #    -1\n",
        "  # -1  4 -1\n",
        "  #    -1\n",
        "  #\n",
        "  # for the 2D Laplacian operator L = -(d^2u/dx^2 +  d^2u/dy^2)\n",
        "\n",
        "  stencil = np.array([4., -1., -1., -1., -1.]) / h**2\n",
        "\n",
        "  # Loop over each internal node in the grid, i,j = 1,2,...,n-2\n",
        "  for i in range(1,n-1):\n",
        "    for j in range(1,n-1):\n",
        "      # Find k-indices of the four neighbouring nodes\n",
        "      localStencilIndices = np.array([indexFD(i,j,n), indexFD(i+1,j,n), indexFD(i-1,j,n), indexFD(i,j+1,n), indexFD(i,j-1,n)])\n",
        "\n",
        "      # Add the local stencil for node (x_i,y_j) to the matrix\n",
        "      currentRow = indexFD(i,j,n)\n",
        "      for m in range (0,5):\n",
        "        A[currentRow, localStencilIndices[m]] = A[currentRow, localStencilIndices[m]] + stencil[m]\n",
        "\n",
        "  # After the matrix A has been assembled, we convert it to the column-major format\n",
        "  # for more efficient computations\n",
        "  A = A.tocsc()\n",
        "\n",
        "  return (A * nu)"
      ],
      "id": "oad8HiZWPZ8l"
    },
    {
      "cell_type": "markdown",
      "source": [
        "We make use of a helper function that takes the two-dimensional index $(i,j)$ and returns the one-dimensional index $k(i,j)$ in the long solution vector."
      ],
      "metadata": {
        "id": "0_7oZ-3fyWiM"
      },
      "id": "0_7oZ-3fyWiM"
    },
    {
      "cell_type": "code",
      "source": [
        "# Finds the index k = 0,1,2,...,N-1 in the vector corresponding to the grid\n",
        "# point (x_i, y_j) where i,j = 0,1,2,...,n-1\n",
        "\n",
        "def indexFD(i, j, n):\n",
        "  return ( i*n + j )"
      ],
      "metadata": {
        "id": "mdHLSCqWQCQS"
      },
      "id": "mdHLSCqWQCQS",
      "execution_count": 22,
      "outputs": []
    },
    {
      "cell_type": "markdown",
      "source": [
        "To apply boundary conditions, we will create a helper function that finds indices to the nodes that are on the boundary of the domain (exterior nodes) and nodes that are not (interior nodes):"
      ],
      "metadata": {
        "id": "LwcmoTuX01j8"
      },
      "id": "LwcmoTuX01j8"
    },
    {
      "cell_type": "code",
      "source": [
        "import numpy as np\n",
        "\n",
        "def boundaryConditions(n):\n",
        "\n",
        "  extNodes = []\n",
        "\n",
        "  # Find nodes at the boundary of the square\n",
        "  for j in range(0,n):\n",
        "    extNodes.append( indexFD(j,0,n) )\n",
        "    extNodes.append( indexFD(j,n-1,n) )\n",
        "    extNodes.append( indexFD(0,j,n) )\n",
        "    extNodes.append( indexFD(n-1,j,n) )\n",
        "\n",
        "  extNodes = np.unique(extNodes)\n",
        "  intNodes = np.setdiff1d(np.arange(0,n**2), extNodes);\n",
        "\n",
        "  return intNodes, extNodes"
      ],
      "metadata": {
        "id": "5s8wP-itwdAn"
      },
      "id": "5s8wP-itwdAn",
      "execution_count": 23,
      "outputs": []
    },
    {
      "cell_type": "markdown",
      "metadata": {
        "id": "sotc0prYgftt"
      },
      "source": [
        "To simplify the Newton implementation, we will use the finite-difference Jacobian algorithm:"
      ],
      "id": "sotc0prYgftt"
    },
    {
      "cell_type": "code",
      "execution_count": 24,
      "metadata": {
        "id": "uE3rvaCXgeSW"
      },
      "outputs": [],
      "source": [
        "import scipy as sp\n",
        "import copy\n",
        "\n",
        "def fdJacobian(x,n,fnon,F0,*fnonargs):\n",
        "  # We replace the dense NumPy array with a sparse SciPy matrix\n",
        "  # (list-of-lists format is used for assembly)\n",
        "\n",
        "  J = sp.sparse.lil_array((n, n), dtype=np.float64)\n",
        "  h = 10e-8\n",
        "\n",
        "  for k in range(0,n):\n",
        "    xb = copy.deepcopy(x)\n",
        "    xb[k,0] = xb[k,0] + h\n",
        "\n",
        "    F = eval(fnon)(xb,*fnonargs)\n",
        "\n",
        "    for i in range(0,n):\n",
        "      J[i,k] = (F[i,0] - F0[i,0]) / h\n",
        "\n",
        "  # Return the Jacobian in column-major sparse format\n",
        "  return J.tocsc()"
      ],
      "id": "uE3rvaCXgeSW"
    },
    {
      "cell_type": "markdown",
      "source": [
        "Once the matrix $A$ has been assembled, we can compute ${\\bf F}({\\bf u})$ for the nonlinear Laplace problem:\n",
        "$$\n",
        "{\\bf F}({\\bf u}) =\n",
        "\\left\\{\n",
        "\\begin{aligned}\n",
        " A {\\bf u}_{int} - {\\bf f}({\\bf u}_{int}) &= {\\bf 0} \\\\\n",
        "{\\bf u}_{bdary}   &= {\\bf 0}\n",
        "\\end{aligned}\n",
        "\\right.\n",
        "$$\n",
        "where ${\\bf u}_{int}$ are the values in the interior nodes and ${\\bf u}_{bdary}$ the values in the boundary nodes. The Jacobian matrix now becomes\n",
        "$$\n",
        "{\\bf J}(\\begin{bmatrix}{\\bf u}_{int} \\\\ {\\bf u}_{bdary}\\end{bmatrix}) := \\begin{bmatrix} A - \\frac{\\partial {\\bf f}}{\\partial {\\bf u}} & 0 \\\\\n",
        "0 & I\n",
        "\\end{bmatrix}.\n",
        "$$"
      ],
      "metadata": {
        "id": "94RTWllOxdvi"
      },
      "id": "94RTWllOxdvi"
    },
    {
      "cell_type": "code",
      "source": [
        "import math\n",
        "\n",
        "def laplaceF( u, A, n ):\n",
        "\n",
        "  N = n**2\n",
        "  f = sp.sparse.lil_array((N, 1), dtype=np.float64)\n",
        "\n",
        "  # Find the internal nodes and the boundary nodes\n",
        "  intNodes, extNodes  = boundaryConditions(n)\n",
        "\n",
        "  # Evaluate the nonlinear Laplacian equation (make sure to use sparse matrix-vector multiplication)\n",
        "\n",
        "  Au = A[intNodes,:] @ u # Sparse matrix-vector multiplication\n",
        "  Fu = sp.sparse.lil_array((N, 1), dtype=np.float64)\n",
        "\n",
        "  # Evaluate the nonlinear function F(u) = (u - 1)^2\n",
        "  for k in intNodes:\n",
        "    Fu[k] = (u[k,0] - 1)**2\n",
        "\n",
        "  f[intNodes] = Au - Fu[intNodes]\n",
        "\n",
        "  # Set value of U at boundary nodes (this imposes u=0 at the boundary)\n",
        "  f[extNodes] = u[extNodes]\n",
        "\n",
        "  return f.tocsc()"
      ],
      "metadata": {
        "id": "zpOxg6s-rBAI"
      },
      "id": "zpOxg6s-rBAI",
      "execution_count": 25,
      "outputs": []
    },
    {
      "cell_type": "markdown",
      "source": [
        "Now we have everything we need to introduce the main nonlinear PDE solver:"
      ],
      "metadata": {
        "id": "tFYU4PvP5LOx"
      },
      "id": "tFYU4PvP5LOx"
    },
    {
      "cell_type": "code",
      "execution_count": 26,
      "metadata": {
        "id": "rR9jRQOxEyBm"
      },
      "outputs": [],
      "source": [
        "import scipy as sp\n",
        "import matplotlib.pyplot as plt\n",
        "import numpy as np\n",
        "import time\n",
        "\n",
        "def laplacianSolver(nu, h):\n",
        "\n",
        "  n = int(1./h + 1)  # dimension of spatial mesh in each dimension\n",
        "  N = n**2      # total number of grid points\n",
        "\n",
        "  # Initial guess for Newton is the zero vector\n",
        "  u0 = sp.sparse.csc_array( (N,1), dtype=np.float64 )\n",
        "\n",
        "  # Assemble the Laplacian matrix\n",
        "  A = laplacianMatrix(nu, n)\n",
        "\n",
        "  # We plot the sparsity pattern of the matrix A to check that it has been\n",
        "  # correctly assembled.\n",
        "  fig = plt.figure()\n",
        "  ax = fig.add_subplot(111)\n",
        "  cax = ax.matshow(A.toarray(), vmin=-4./h*nu, vmax=4./h*nu, cmap='coolwarm')\n",
        "  plt.title(\"Sparsity pattern\")\n",
        "  fig.colorbar(cax)\n",
        "  plt.show()\n",
        "\n",
        "  # Newton iteration to solve nonlinear PDE\n",
        "  u = myNewtonSys( \"laplaceF\", \"fdJacobian\", u0, 1e-6, 100, A, n )\n",
        "\n",
        "  return u"
      ],
      "id": "rR9jRQOxEyBm"
    },
    {
      "cell_type": "markdown",
      "source": [
        "Let's solve the PDE now, first visualising the sparsity pattern (non-zero elements) of the Laplacian matrix $A$:"
      ],
      "metadata": {
        "id": "UKPKn2P_z2AO"
      },
      "id": "UKPKn2P_z2AO"
    },
    {
      "cell_type": "code",
      "source": [
        "h = 0.1\n",
        "sol = laplacianSolver(0.1, h)"
      ],
      "metadata": {
        "colab": {
          "base_uri": "https://localhost:8080/",
          "height": 620
        },
        "id": "FwTiMzH1zbQL",
        "outputId": "1a60a439-7374-4cf7-debb-4c0d06e917d0"
      },
      "id": "FwTiMzH1zbQL",
      "execution_count": 27,
      "outputs": [
        {
          "output_type": "display_data",
          "data": {
            "text/plain": [
              "<Figure size 640x480 with 2 Axes>"
            ],
            "image/png": "[encoded data removed]"
          },
          "metadata": {}
        },
        {
          "output_type": "stream",
          "name": "stderr",
          "text": [
            "<ipython-input-20-58d2a0f5913a>:17: DeprecationWarning: `get_shape` is deprecated and will be removed in v1.13.0; use `X.shape` instead.\n",
            "  Fsize = F.get_shape()\n",
            "/usr/local/lib/python3.10/dist-packages/scipy/sparse/_index.py:100: SparseEfficiencyWarning: Changing the sparsity structure of a csc_matrix is expensive. lil_matrix is more efficient.\n",
            "  self._set_intXint(row, col, x.flat[0])\n"
          ]
        },
        {
          "output_type": "stream",
          "name": "stdout",
          "text": [
            " k    f(xk)\n",
            " 0  2.96e-01\n",
            " 1  1.54e-05\n",
            " 2  4.44e-14\n"
          ]
        }
      ]
    },
    {
      "cell_type": "markdown",
      "source": [
        "The sparsity pattern presented here doesn't include the nodal values $u_{i,j}$ on the boundary where either $i=1,i=n,j=1$ or $j=n$. These values are set separately when we build the Jacobian matrix for the full nonlinear system.\n",
        "\n",
        "Next we will visualise the 3D surface of the solution $u(x,y)$:"
      ],
      "metadata": {
        "id": "XdOwqmb8qepu"
      },
      "id": "XdOwqmb8qepu"
    },
    {
      "cell_type": "code",
      "source": [
        "import matplotlib.pyplot as plt\n",
        "import numpy as np\n",
        "\n",
        "from matplotlib import cm\n",
        "from matplotlib.ticker import LinearLocator\n",
        "\n",
        "fig, ax = plt.subplots(subplot_kw={\"projection\": \"3d\"})\n",
        "\n",
        "# Make data.\n",
        "X = np.arange(0., 1.+h, h)\n",
        "Y = np.arange(0., 1.+h, h)\n",
        "X, Y = np.meshgrid(X, Y)\n",
        "Z = sol.reshape(int(1./h+1),int(1./h+1))\n",
        "\n",
        "# Plot the surface.\n",
        "surf = ax.plot_surface(X, Y, Z, cmap=cm.coolwarm,\n",
        "                       linewidth=0, antialiased=False)\n",
        "\n",
        "# Customize the z axis.\n",
        "ax.set_zlim(0.0, 0.5)\n",
        "\n",
        "\n",
        "# Add a color bar which maps values to colors.\n",
        "fig.colorbar(surf, shrink=0.5, aspect=5)\n",
        "\n",
        "plt.show()"
      ],
      "metadata": {
        "colab": {
          "base_uri": "https://localhost:8080/",
          "height": 415
        },
        "id": "8PQaY48ruzFj",
        "outputId": "a9d7abe1-0fdd-4d45-b76f-8d0bbe86dbd1"
      },
      "id": "8PQaY48ruzFj",
      "execution_count": 28,
      "outputs": [
        {
          "output_type": "display_data",
          "data": {
            "text/plain": [
              "<Figure size 640x480 with 2 Axes>"
            ],
            "image/png": "[encoded data removed]"
          },
          "metadata": {}
        }
      ]
    },
    {
      "cell_type": "markdown",
      "source": [
        "The solution is equal to zero at the boundary, as prescribed by our boundary conditions. The values inside the unit square depend on our source function $f(u)$. By refining the grid we can obtain more accurate solutions, at the cost of computational time."
      ],
      "metadata": {
        "id": "gaVf-sfDMPrN"
      },
      "id": "gaVf-sfDMPrN"
    }
  ],
  "metadata": {
    "colab": {
      "provenance": []
    },
    "kernelspec": {
      "display_name": "Python 3 (ipykernel)",
      "language": "python",
      "name": "python3"
    },
    "language_info": {
      "codemirror_mode": {
        "name": "ipython",
        "version": 3
      },
      "file_extension": ".py",
      "mimetype": "text/x-python",
      "name": "python",
      "nbconvert_exporter": "python",
      "pygments_lexer": "ipython3",
      "version": "3.9.12"
    }
  },
  "nbformat": 4,
  "nbformat_minor": 5
}