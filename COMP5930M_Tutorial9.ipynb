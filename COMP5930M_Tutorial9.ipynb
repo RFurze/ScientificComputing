{
  "cells": [
    {
      "cell_type": "markdown",
      "id": "xApGMsyQB5rK",
      "metadata": {
        "id": "xApGMsyQB5rK"
      },
      "source": [
        "COMP5930M Scientific Computation - Tutorial 9  \\\\\n",
        "Iterative linear solvers"
      ]
    },
    {
      "cell_type": "markdown",
      "id": "DOCmv6ncteNR",
      "metadata": {
        "id": "DOCmv6ncteNR"
      },
      "source": [
        "To illustrate the performance of linear algebra algorithms for large linear systems, we experiment with three different linear problems from Matrix Market (https://math.nist.gov/MatrixMarket/). If using Google Colab, you need to upload the three .mtx files to your local session storage.\n",
        "\n",
        "Matrix 1: Structural engineering problem of a frame within a suspension bridge\n",
        "\n",
        "Matrix 2: 3D model of an oil reservoir\n",
        "\n",
        "Matrix 3: Lid-driven cavity flow in a box"
      ]
    },
    {
      "cell_type": "code",
      "execution_count": 204,
      "id": "1lvrqBl7skta",
      "metadata": {
        "colab": {
          "base_uri": "https://localhost:8080/",
          "height": 233
        },
        "id": "1lvrqBl7skta",
        "outputId": "f42e5d30-c594-4d4b-ce69-5c79b64a9fd2"
      },
      "outputs": [
        {
          "data": {
            "image/png": "[encoded data removed]",
            "text/plain": [
              "<Figure size 640x480 with 3 Axes>"
            ]
          },
          "metadata": {},
          "output_type": "display_data"
        }
      ],
      "source": [
        "from scipy.io import mmread\n",
        "import scipy as sp\n",
        "import matplotlib.pyplot as plt\n",
        "import numpy as np\n",
        "import time\n",
        "\n",
        "A1 = mmread('bcsstk20.mtx')\n",
        "A2 = mmread('steam1.mtx')\n",
        "A3 = mmread('e05r0100.mtx')\n",
        "\n",
        "A1 = A1.tocsr()\n",
        "A2 = A2.tocsr()\n",
        "A3 = A3.tocsr()\n",
        "\n",
        "fig, axs = plt.subplots(1, 3)\n",
        "ax1 = axs[0]\n",
        "ax2 = axs[1]\n",
        "ax3 = axs[2]\n",
        "\n",
        "ax1.spy(A1, markersize=1)\n",
        "ax1.set_title('A1')\n",
        "ax2.spy(A2, markersize=1)\n",
        "ax2.set_title('A2')\n",
        "ax3.spy(A3, markersize=1)\n",
        "ax3.set_title('A3')\n",
        "\n",
        "plt.show()"
      ]
    },
    {
      "cell_type": "markdown",
      "id": "_XKezt7Ev9vg",
      "metadata": {
        "id": "_XKezt7Ev9vg"
      },
      "source": [
        "By plotting the sparsity patterns of the three matrices, we can observe they are all sparse but have very different sparsity patterns. $A_1$ is mostly diagonal, whereas $A_2$ has many elements away from the diagonal due to the 3D discretisation, and $A_3$ has many more nonzero elements in a block pattern (typical for higher-order spatial discretisation methods). This will have implications to the efficiency of matrix factorisations.\n",
        "\n",
        "We will make use of the scipy.sparse.linalg.splu method for sparse LU-factorisation (provided by the SuperLU library, https://portal.nersc.gov/project/sparse/superlu/)."
      ]
    },
    {
      "cell_type": "markdown",
      "id": "zqSDmN7pxTot",
      "metadata": {
        "id": "zqSDmN7pxTot"
      },
      "source": [
        "Let's start with simple iterations: Jacobi and Gauss-Seidel:"
      ]
    },
    {
      "cell_type": "code",
      "execution_count": 205,
      "id": "XAITA43UxMUO",
      "metadata": {
        "id": "XAITA43UxMUO"
      },
      "outputs": [],
      "source": [
        "def jacobi(A, b, tol, maxiter):\n",
        "  # Extract the splitting A = D + E\n",
        "  d = A.diagonal()\n",
        "  D = sp.sparse.spdiags(d, 0, A.shape[0], A.shape[1])\n",
        "  D = D.tocsr()\n",
        "  E = A - D\n",
        "\n",
        "  x = sp.sparse.csc_array( (A.shape[1],1), dtype=np.float64)\n",
        "\n",
        "  # Perform Jacobi iteration\n",
        "  r = sp.sparse.linalg.norm(b - A @ x)\n",
        "  k = 0\n",
        "\n",
        "  print(' k    rk')\n",
        "\n",
        "  while (r > tol and k < maxiter):\n",
        "    k += 1\n",
        "\n",
        "    # Iteration with the equation D x{k+1} = b - E x_k\n",
        "    x = np.atleast_2d(sp.sparse.linalg.spsolve(D, b - E @ x))\n",
        "    x = x.T\n",
        "\n",
        "    # Update the residual norm\n",
        "    r = np.linalg.norm(b - A @ x)\n",
        "\n",
        "    print('{0:2.0f}  {1:2.2e}'.format(k, r))\n",
        "\n",
        "  if (k == maxiter):\n",
        "    print('Convergence failed')"
      ]
    },
    {
      "cell_type": "code",
      "execution_count": 206,
      "id": "43Xo8RrC-s1e",
      "metadata": {
        "id": "43Xo8RrC-s1e"
      },
      "outputs": [],
      "source": [
        "def gaussSeidel(A, b, tol, maxiter):\n",
        "  # Extract the splitting A = D + E\n",
        "  d = A.diagonal()\n",
        "  D = sp.sparse.triu(A)\n",
        "  D = D.tocsr()\n",
        "  E = A - D\n",
        "\n",
        "  x = sp.sparse.csc_array( (A.shape[1],1), dtype=np.float64)\n",
        "\n",
        "  # Perform Jacobi iteration\n",
        "  r = sp.sparse.linalg.norm(b - A @ x)\n",
        "  k = 0\n",
        "\n",
        "  print(' k    rk')\n",
        "\n",
        "  while (r > tol and k < maxiter):\n",
        "    k += 1\n",
        "\n",
        "    # Iteration with the equation D x{k+1} = b - E x_k\n",
        "    x = np.atleast_2d(sp.sparse.linalg.spsolve(D, b - E @ x))\n",
        "    x = x.T\n",
        "\n",
        "    # Update the residual norm\n",
        "    r = np.linalg.norm(b - A @ x)\n",
        "\n",
        "    print('{0:2.0f}  {1:2.2e}'.format(k, r))\n",
        "\n",
        "  if (k == maxiter):\n",
        "    print('Convergence failed')"
      ]
    },
    {
      "cell_type": "markdown",
      "id": "DWehQTor2V5W",
      "metadata": {
        "id": "DWehQTor2V5W"
      },
      "source": [
        "Let us test the Jacobi iteration with a small example. The matrix\n",
        "$$\n",
        "A=\\begin{bmatrix}\n",
        "    14 &    0  &   5  &   2  &   1 \\\\\n",
        "     0 &    8  &  -3  &   1  &  -2 \\\\\n",
        "     5 &   -3  & 12   &  2   &  5  \\\\\n",
        "     2 &    1  &   2  &   6  &   1 \\\\\n",
        "     1 &   -2  &   5  &   1  &   8\n",
        "\\end{bmatrix}\n",
        "$$\n",
        "is symmetric, positive definite but not strictly diagonally dominant."
      ]
    },
    {
      "cell_type": "code",
      "execution_count": 207,
      "id": "sd0AyFbC2Wdd",
      "metadata": {
        "colab": {
          "base_uri": "https://localhost:8080/"
        },
        "id": "sd0AyFbC2Wdd",
        "outputId": "90e607ea-07e2-43d5-96dc-e54473439898"
      },
      "outputs": [
        {
          "name": "stdout",
          "output_type": "stream",
          "text": [
            " k    rk\n",
            " 1  3.91e-01\n",
            " 2  3.03e-01\n",
            " 3  2.24e-01\n",
            " 4  1.79e-01\n",
            " 5  1.38e-01\n",
            " 6  1.09e-01\n",
            " 7  8.52e-02\n",
            " 8  6.74e-02\n",
            " 9  5.28e-02\n",
            "10  4.17e-02\n",
            "11  3.28e-02\n",
            "12  2.58e-02\n",
            "13  2.03e-02\n",
            "14  1.60e-02\n",
            "15  1.26e-02\n",
            "16  9.93e-03\n",
            "17  7.81e-03\n",
            "18  6.15e-03\n",
            "19  4.84e-03\n",
            "20  3.81e-03\n",
            "21  3.00e-03\n",
            "22  2.36e-03\n",
            "23  1.86e-03\n",
            "24  1.47e-03\n",
            "25  1.15e-03\n",
            "26  9.08e-04\n",
            "27  7.15e-04\n",
            "28  5.63e-04\n",
            "29  4.43e-04\n",
            "30  3.49e-04\n",
            "31  2.75e-04\n",
            "32  2.16e-04\n",
            "33  1.70e-04\n",
            "34  1.34e-04\n",
            "35  1.06e-04\n",
            "36  8.32e-05\n",
            "37  6.55e-05\n",
            "38  5.16e-05\n",
            "39  4.06e-05\n",
            "40  3.20e-05\n",
            "41  2.52e-05\n",
            "42  1.98e-05\n",
            "43  1.56e-05\n",
            "44  1.23e-05\n",
            "45  9.67e-06\n",
            "46  7.61e-06\n",
            "47  5.99e-06\n",
            "48  4.72e-06\n",
            "49  3.72e-06\n",
            "50  2.93e-06\n",
            "51  2.30e-06\n",
            "52  1.81e-06\n",
            "53  1.43e-06\n",
            "54  1.12e-06\n",
            "55  8.85e-07\n"
          ]
        }
      ],
      "source": [
        "A = np.array([[14,0,5,2,1],[0,8,-3,1,-2],[5,3,12,2,5],[2,1,2,6,1],[1,-2,5,1,8]])\n",
        "A = sp.sparse.csr_matrix(A)\n",
        "\n",
        "b = sp.sparse.lil_array((A.shape[0], 1), dtype=np.float64)\n",
        "b[0] = 1\n",
        "b = b.tocsc()\n",
        "\n",
        "jacobi(A, b, 1e-6, 100)"
      ]
    },
    {
      "cell_type": "markdown",
      "id": "Flx6-9k1-dut",
      "metadata": {
        "id": "Flx6-9k1-dut"
      },
      "source": [
        "Jacobi converges in 55 iterations despite the fact that the matrix is not strictly diagonally dominant. Now we try the Gauss-Seidel iteration:"
      ]
    },
    {
      "cell_type": "code",
      "execution_count": 208,
      "id": "lgssqk6E_2t5",
      "metadata": {
        "colab": {
          "base_uri": "https://localhost:8080/"
        },
        "id": "lgssqk6E_2t5",
        "outputId": "05fc6b82-31b0-4264-b435-ca0d14cba0d2"
      },
      "outputs": [
        {
          "name": "stdout",
          "output_type": "stream",
          "text": [
            " k    rk\n",
            " 1  3.91e-01\n",
            " 2  1.16e-01\n",
            " 3  4.29e-02\n",
            " 4  1.40e-02\n",
            " 5  4.33e-03\n",
            " 6  1.31e-03\n",
            " 7  3.93e-04\n",
            " 8  1.17e-04\n",
            " 9  3.47e-05\n",
            "10  1.03e-05\n",
            "11  3.05e-06\n",
            "12  9.05e-07\n"
          ]
        }
      ],
      "source": [
        "gaussSeidel(A, b, 1e-6, 100)"
      ]
    },
    {
      "cell_type": "markdown",
      "id": "1Qicqd9u_4um",
      "metadata": {
        "id": "1Qicqd9u_4um"
      },
      "source": [
        "In comparison, Gauss-Seidel only requires 12 iterations.\n",
        "\n",
        "When we attempt to solve the challenging real-life problems, we observe that Gauss-Seidel convergence is very slow:"
      ]
    },
    {
      "cell_type": "code",
      "execution_count": 209,
      "id": "l5GTeTF6AtpW",
      "metadata": {
        "colab": {
          "base_uri": "https://localhost:8080/"
        },
        "id": "l5GTeTF6AtpW",
        "outputId": "49816f1b-49fe-4da0-b38e-9567f7baeccb"
      },
      "outputs": [
        {
          "name": "stdout",
          "output_type": "stream",
          "text": [
            " k    rk\n",
            " 1  1.25e+02\n",
            " 2  1.38e+02\n",
            " 3  1.33e+02\n",
            " 4  1.28e+02\n",
            " 5  1.24e+02\n",
            " 6  1.21e+02\n",
            " 7  1.17e+02\n",
            " 8  1.15e+02\n",
            " 9  1.12e+02\n",
            "10  1.09e+02\n",
            "11  1.07e+02\n",
            "12  1.05e+02\n",
            "13  1.03e+02\n",
            "14  1.02e+02\n",
            "15  9.99e+01\n",
            "16  9.83e+01\n",
            "17  9.69e+01\n",
            "18  9.55e+01\n",
            "19  9.42e+01\n",
            "20  9.29e+01\n",
            "21  9.18e+01\n",
            "22  9.07e+01\n",
            "23  8.96e+01\n",
            "24  8.86e+01\n",
            "25  8.76e+01\n",
            "26  8.67e+01\n",
            "27  8.58e+01\n",
            "28  8.50e+01\n",
            "29  8.42e+01\n",
            "30  8.34e+01\n",
            "31  8.26e+01\n",
            "32  8.19e+01\n",
            "33  8.12e+01\n",
            "34  8.06e+01\n",
            "35  7.99e+01\n",
            "36  7.93e+01\n",
            "37  7.87e+01\n",
            "38  7.81e+01\n",
            "39  7.75e+01\n",
            "40  7.70e+01\n",
            "41  7.65e+01\n",
            "42  7.59e+01\n",
            "43  7.55e+01\n",
            "44  7.50e+01\n",
            "45  7.45e+01\n",
            "46  7.40e+01\n",
            "47  7.36e+01\n",
            "48  7.32e+01\n",
            "49  7.27e+01\n",
            "50  7.23e+01\n",
            "51  7.19e+01\n",
            "52  7.15e+01\n",
            "53  7.11e+01\n",
            "54  7.08e+01\n",
            "55  7.04e+01\n",
            "56  7.00e+01\n",
            "57  6.97e+01\n",
            "58  6.94e+01\n",
            "59  6.90e+01\n",
            "60  6.87e+01\n",
            "61  6.84e+01\n",
            "62  6.81e+01\n",
            "63  6.78e+01\n",
            "64  6.75e+01\n",
            "65  6.72e+01\n",
            "66  6.69e+01\n",
            "67  6.66e+01\n",
            "68  6.63e+01\n",
            "69  6.61e+01\n",
            "70  6.58e+01\n",
            "71  6.55e+01\n",
            "72  6.53e+01\n",
            "73  6.50e+01\n",
            "74  6.48e+01\n",
            "75  6.45e+01\n",
            "76  6.43e+01\n",
            "77  6.41e+01\n",
            "78  6.38e+01\n",
            "79  6.36e+01\n",
            "80  6.34e+01\n",
            "81  6.32e+01\n",
            "82  6.29e+01\n",
            "83  6.27e+01\n",
            "84  6.25e+01\n",
            "85  6.23e+01\n",
            "86  6.21e+01\n",
            "87  6.19e+01\n",
            "88  6.17e+01\n",
            "89  6.15e+01\n",
            "90  6.13e+01\n",
            "91  6.11e+01\n",
            "92  6.10e+01\n",
            "93  6.08e+01\n",
            "94  6.06e+01\n",
            "95  6.04e+01\n",
            "96  6.02e+01\n",
            "97  6.01e+01\n",
            "98  5.99e+01\n",
            "99  5.97e+01\n",
            "100  5.96e+01\n",
            "Convergence failed\n",
            " k    rk\n",
            " 1  8.95e-04\n",
            " 2  5.80e-06\n",
            " 3  4.44e-06\n",
            " 4  5.12e-06\n",
            " 5  5.63e-06\n",
            " 6  6.02e-06\n",
            " 7  6.27e-06\n",
            " 8  6.52e-06\n",
            " 9  7.10e-06\n",
            "10  8.53e-06\n",
            "11  1.13e-05\n",
            "12  1.55e-05\n",
            "13  2.12e-05\n",
            "14  2.82e-05\n",
            "15  3.65e-05\n",
            "16  4.57e-05\n",
            "17  5.54e-05\n",
            "18  6.52e-05\n",
            "19  7.43e-05\n",
            "20  8.19e-05\n",
            "21  8.72e-05\n",
            "22  8.97e-05\n",
            "23  8.97e-05\n",
            "24  8.99e-05\n",
            "25  9.66e-05\n",
            "26  1.19e-04\n",
            "27  1.62e-04\n",
            "28  2.25e-04\n",
            "29  3.08e-04\n",
            "30  4.07e-04\n",
            "31  5.18e-04\n",
            "32  6.38e-04\n",
            "33  7.58e-04\n",
            "34  8.71e-04\n",
            "35  9.65e-04\n",
            "36  1.03e-03\n",
            "37  1.04e-03\n",
            "38  1.00e-03\n",
            "39  9.09e-04\n",
            "40  8.09e-04\n",
            "41  8.54e-04\n",
            "42  1.21e-03\n",
            "43  1.87e-03\n",
            "44  2.76e-03\n",
            "45  3.84e-03\n",
            "46  5.07e-03\n",
            "47  6.38e-03\n",
            "48  7.70e-03\n",
            "49  8.93e-03\n",
            "50  9.93e-03\n",
            "51  1.05e-02\n",
            "52  1.06e-02\n",
            "53  9.90e-03\n",
            "54  8.43e-03\n",
            "55  6.67e-03\n",
            "56  7.01e-03\n",
            "57  1.18e-02\n",
            "58  2.00e-02\n",
            "59  3.07e-02\n",
            "60  4.34e-02\n",
            "61  5.78e-02\n",
            "62  7.33e-02\n",
            "63  8.90e-02\n",
            "64  1.04e-01\n",
            "65  1.16e-01\n",
            "66  1.24e-01\n",
            "67  1.25e-01\n",
            "68  1.19e-01\n",
            "69  1.03e-01\n",
            "70  8.25e-02\n",
            "71  8.27e-02\n",
            "72  1.34e-01\n",
            "73  2.26e-01\n",
            "74  3.49e-01\n",
            "75  4.97e-01\n",
            "76  6.66e-01\n",
            "77  8.49e-01\n",
            "78  1.04e+00\n",
            "79  1.22e+00\n",
            "80  1.37e+00\n",
            "81  1.47e+00\n",
            "82  1.51e+00\n",
            "83  1.44e+00\n",
            "84  1.27e+00\n",
            "85  1.02e+00\n",
            "86  9.04e-01\n",
            "87  1.37e+00\n",
            "88  2.37e+00\n",
            "89  3.75e+00\n",
            "90  5.43e+00\n",
            "91  7.37e+00\n",
            "92  9.48e+00\n",
            "93  1.17e+01\n",
            "94  1.38e+01\n",
            "95  1.56e+01\n",
            "96  1.69e+01\n",
            "97  1.74e+01\n",
            "98  1.68e+01\n",
            "99  1.49e+01\n",
            "100  1.19e+01\n",
            "Convergence failed\n",
            " k    rk\n",
            " 1  nan\n"
          ]
        },
        {
          "name": "stderr",
          "output_type": "stream",
          "text": [
            "/usr/local/lib/python3.10/dist-packages/scipy/sparse/linalg/_dsolve/linsolve.py:293: MatrixRankWarning: Matrix is exactly singular\n",
            "  warn(\"Matrix is exactly singular\", MatrixRankWarning)\n"
          ]
        }
      ],
      "source": [
        "b1= sp.sparse.lil_array((A1.shape[0], 1), dtype=np.float64)\n",
        "b1[0] = 1\n",
        "b1 = b1.tocsc()\n",
        "\n",
        "b2 = sp.sparse.lil_array((A2.shape[0], 1), dtype=np.float64)\n",
        "b2[0] = 1\n",
        "b2 = b2.tocsc()\n",
        "\n",
        "b3 = sp.sparse.lil_array((A3.shape[0], 1), dtype=np.float64)\n",
        "b3[0] = 1\n",
        "b3 = b3.tocsc()\n",
        "\n",
        "gaussSeidel(A1, b1, 1e-6, 100)\n",
        "gaussSeidel(A2, b2, 1e-6, 100)\n",
        "gaussSeidel(A3, b3, 1e-6, 100)"
      ]
    },
    {
      "cell_type": "markdown",
      "id": "1k9-LQCZBKkO",
      "metadata": {
        "id": "1k9-LQCZBKkO"
      },
      "source": [
        "We will now use Conjugate Gradient to solve the problems $A1$, $A2$ and $A3$:"
      ]
    },
    {
      "cell_type": "code",
      "execution_count": 210,
      "id": "JdSeXgV4Bjr-",
      "metadata": {
        "colab": {
          "base_uri": "https://localhost:8080/"
        },
        "id": "JdSeXgV4Bjr-",
        "outputId": "6e0f101d-dd82-4fb2-8e17-7f0cf26989b7"
      },
      "outputs": [
        {
          "name": "stdout",
          "output_type": "stream",
          "text": [
            "4850\n",
            "0\n",
            "2360\n"
          ]
        }
      ],
      "source": [
        "x1, info1 = sp.sparse.linalg.cg(A1,b1.todense())\n",
        "print(info1)\n",
        "\n",
        "x2, info2 = sp.sparse.linalg.cg(A2,b2.todense())\n",
        "print(info2)\n",
        "\n",
        "x3, info3 = sp.sparse.linalg.cg(A3,b3.todense())\n",
        "print(info3)"
      ]
    },
    {
      "cell_type": "markdown",
      "id": "3-JQj177Djm9",
      "metadata": {
        "id": "3-JQj177Djm9"
      },
      "source": [
        "The return value is 0 if the algorithm converged, and >0 then the algorithm didn't converge after that many iterations. Therefore we can see that afer 4850 iterations no solution was achieved for $A_1$, for $A_2$ the problem converged, and again no solution was found for $A_3$. This is the typical behaviour of CG without a preconditioner.\n",
        "\n",
        "Now let's use the incomplete LU preconditioner for these problems:"
      ]
    },
    {
      "cell_type": "code",
      "execution_count": 211,
      "id": "P4tOdg5GEzM-",
      "metadata": {
        "colab": {
          "base_uri": "https://localhost:8080/",
          "height": 233
        },
        "id": "P4tOdg5GEzM-",
        "outputId": "dca47480-ee7c-4e32-b6ec-936a824743ff"
      },
      "outputs": [
        {
          "data": {
            "image/png": "[encoded data removed]",
            "text/plain": [
              "<Figure size 640x480 with 3 Axes>"
            ]
          },
          "metadata": {},
          "output_type": "display_data"
        }
      ],
      "source": [
        "# We compute the incomplete LU factors using numerical\n",
        "drop_tol = 5e-7\n",
        "ILU1 = sp.sparse.linalg.spilu(A1,drop_tol)\n",
        "\n",
        "fig, axs = plt.subplots(1, 3)\n",
        "ax1 = axs[0]\n",
        "ax2 = axs[1]\n",
        "ax3 = axs[2]\n",
        "\n",
        "ax1.spy(A1, markersize=1)\n",
        "ax1.set_title('A1 (nnz = ' + str(A1.getnnz()) + ')')\n",
        "ax2.spy(ILU1.L, markersize=1)\n",
        "ax2.set_title('L1 (nnz = ' + str(ILU1.L.getnnz()) + ')')\n",
        "ax3.spy(ILU1.U, markersize=1)\n",
        "ax3.set_title('U1 (nnz = ' + str(ILU1.U.getnnz()) + ')')\n",
        "\n",
        "plt.show()"
      ]
    },
    {
      "cell_type": "markdown",
      "id": "E6SnrGB_MnYu",
      "metadata": {
        "id": "E6SnrGB_MnYu"
      },
      "source": [
        "We control the sparsity of the incomplete LU factors with the parameter drop_tol. The higher it is, the sparser the factors.\n",
        "\n",
        "To use the preconditioner, we need to create a LinearOperator that is called by CG to solve the preconditioning step $Mz=r$ using $M=\\bar{L}\\bar{U}$ as the preconditioner:"
      ]
    },
    {
      "cell_type": "code",
      "execution_count": 212,
      "id": "dL4b7b_4GqD3",
      "metadata": {
        "colab": {
          "base_uri": "https://localhost:8080/"
        },
        "id": "dL4b7b_4GqD3",
        "outputId": "37206274-9747-41fb-ca4f-438f71b00cf1"
      },
      "outputs": [
        {
          "name": "stdout",
          "output_type": "stream",
          "text": [
            "20\n"
          ]
        }
      ],
      "source": [
        "# We define a LinearOperator that uses the incomplete sparse LU to solve the\n",
        "# preconditioning step Mz = r\n",
        "M1 = sp.sparse.linalg.LinearOperator((A1.shape[0],A1.shape[1]), ILU1.solve)\n",
        "\n",
        "iters = 0\n",
        "\n",
        "def iteration_count(arr):\n",
        "  global iters\n",
        "  iters += 1\n",
        "\n",
        "# Now the preconditioner M can be passed to CG\n",
        "x1, info1 = sp.sparse.linalg.cg(A1, b1.todense(), M=M1, callback=iteration_count)\n",
        "print(iters)"
      ]
    },
    {
      "cell_type": "markdown",
      "id": "_GzMiskDJBiW",
      "metadata": {
        "id": "_GzMiskDJBiW"
      },
      "source": [
        "The preconditioned CG now converges in 20 iterations. We can observe the following phenomena:\n",
        "\n",
        "i) If we increase drop_tol, the number of iterations increases and either CG no longer converges or the factors $L$,$U$ become singular.\n",
        "\n",
        "ii) If we decrease drop_tol, the number of iterations decreses, the factors get closer to the true factors $L$,$U$, and eventually CG converges in 1 iteration.\n",
        "\n",
        "Let's try next the example $A_2$:"
      ]
    },
    {
      "cell_type": "code",
      "execution_count": 213,
      "id": "7oErbWgGJgPG",
      "metadata": {
        "colab": {
          "base_uri": "https://localhost:8080/",
          "height": 233
        },
        "id": "7oErbWgGJgPG",
        "outputId": "95b5aa29-9204-45ad-fc00-fb2298b50c6c"
      },
      "outputs": [
        {
          "data": {
            "image/png": "[encoded data removed]",
            "text/plain": [
              "<Figure size 640x480 with 3 Axes>"
            ]
          },
          "metadata": {},
          "output_type": "display_data"
        }
      ],
      "source": [
        "# We compute the incomplete LU factors using numerical\n",
        "drop_tol = 5e-2\n",
        "ILU2 = sp.sparse.linalg.spilu(A2,drop_tol)\n",
        "\n",
        "fig, axs = plt.subplots(1, 3)\n",
        "ax1 = axs[0]\n",
        "ax2 = axs[1]\n",
        "ax3 = axs[2]\n",
        "\n",
        "ax1.spy(A2, markersize=1)\n",
        "ax1.set_title('A2 (nnz = ' + str(A2.getnnz()) + ')')\n",
        "ax2.spy(ILU2.L, markersize=1)\n",
        "ax2.set_title('L2 (nnz = ' + str(ILU2.L.getnnz()) + ')')\n",
        "ax3.spy(ILU2.U, markersize=1)\n",
        "ax3.set_title('U2 (nnz = ' + str(ILU2.U.getnnz()) + ')')\n",
        "\n",
        "plt.show()"
      ]
    },
    {
      "cell_type": "code",
      "execution_count": 214,
      "id": "desQP7hGJtTd",
      "metadata": {
        "colab": {
          "base_uri": "https://localhost:8080/"
        },
        "id": "desQP7hGJtTd",
        "outputId": "51b93b90-ff09-4909-8f6f-ff518985fc63"
      },
      "outputs": [
        {
          "name": "stdout",
          "output_type": "stream",
          "text": [
            "1\n"
          ]
        }
      ],
      "source": [
        "# We define a LinearOperator that uses the incomplete sparse LU to solve the\n",
        "# preconditioning step Mz = r\n",
        "M2 = sp.sparse.linalg.LinearOperator((A2.shape[0],A2.shape[1]), ILU2.solve)\n",
        "\n",
        "iters = 0\n",
        "\n",
        "# Now the preconditioner M can be passed to CG\n",
        "x2, info2 = sp.sparse.linalg.cg(A2, b2.todense(), M=M2, callback=iteration_count)\n",
        "print(iters)"
      ]
    },
    {
      "cell_type": "markdown",
      "id": "cVoQpSXALYb2",
      "metadata": {
        "id": "cVoQpSXALYb2"
      },
      "source": [
        "In this case, the incomplete LU factorisation turns out to be almost exactly the same as the true LU factorisation, which results in the CG algorithm converging in 1 iteration.\n",
        "\n",
        "Finally, let's try $A_3$:"
      ]
    },
    {
      "cell_type": "code",
      "execution_count": 215,
      "id": "TI35XrknKPQF",
      "metadata": {
        "colab": {
          "base_uri": "https://localhost:8080/",
          "height": 233
        },
        "id": "TI35XrknKPQF",
        "outputId": "c1fde727-3a9f-417e-c333-9253179eec7a"
      },
      "outputs": [
        {
          "data": {
            "image/png": "[encoded data removed]",
            "text/plain": [
              "<Figure size 640x480 with 3 Axes>"
            ]
          },
          "metadata": {},
          "output_type": "display_data"
        }
      ],
      "source": [
        "# We compute the incomplete LU factors using numerical\n",
        "drop_tol = 1e-3\n",
        "ILU3 = sp.sparse.linalg.spilu(A3,drop_tol)\n",
        "\n",
        "fig, axs = plt.subplots(1, 3)\n",
        "ax1 = axs[0]\n",
        "ax2 = axs[1]\n",
        "ax3 = axs[2]\n",
        "\n",
        "ax1.spy(A3, markersize=1)\n",
        "ax1.set_title('A3 (nnz = ' + str(A3.getnnz()) + ')')\n",
        "ax2.spy(ILU1.L, markersize=1)\n",
        "ax2.set_title('L3 (nnz = ' + str(ILU3.L.getnnz()) + ')')\n",
        "ax3.spy(ILU1.U, markersize=1)\n",
        "ax3.set_title('U3 (nnz = ' + str(ILU3.U.getnnz()) + ')')\n",
        "\n",
        "plt.show()"
      ]
    },
    {
      "cell_type": "code",
      "execution_count": 216,
      "id": "H-EJ-sZeKcal",
      "metadata": {
        "colab": {
          "base_uri": "https://localhost:8080/"
        },
        "id": "H-EJ-sZeKcal",
        "outputId": "0769283b-f973-4ef7-d346-0a22054198c4"
      },
      "outputs": [
        {
          "name": "stdout",
          "output_type": "stream",
          "text": [
            "10\n"
          ]
        }
      ],
      "source": [
        "# We define a LinearOperator that uses the incomplete sparse LU to solve the\n",
        "# preconditioning step Mz = r\n",
        "M3 = sp.sparse.linalg.LinearOperator((A3.shape[0],A3.shape[1]), ILU3.solve)\n",
        "\n",
        "iters = 0\n",
        "\n",
        "# Now the preconditioner M can be passed to CG\n",
        "x3, info3 = sp.sparse.linalg.cg(A3, b3.todense(), M=M3, callback=iteration_count)\n",
        "print(iters)"
      ]
    },
    {
      "cell_type": "markdown",
      "id": "Jovjo1sDMCuF",
      "metadata": {
        "id": "Jovjo1sDMCuF"
      },
      "source": [
        "CG now converges in 10 iterations, even if the incomplete factors are quite dense."
      ]
    }
  ],
  "metadata": {
    "colab": {
      "provenance": []
    },
    "kernelspec": {
      "display_name": "Python 3 (ipykernel)",
      "language": "python",
      "name": "python3"
    },
    "language_info": {
      "codemirror_mode": {
        "name": "ipython",
        "version": 3
      },
      "file_extension": ".py",
      "mimetype": "text/x-python",
      "name": "python",
      "nbconvert_exporter": "python",
      "pygments_lexer": "ipython3",
      "version": "3.10.12"
    }
  },
  "nbformat": 4,
  "nbformat_minor": 5
}
